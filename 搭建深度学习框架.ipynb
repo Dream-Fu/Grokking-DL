{
 "cells": [
  {
   "cell_type": "code",
   "execution_count": 1,
   "metadata": {},
   "outputs": [],
   "source": [
    "import numpy as np\n",
    "\n",
    "class Tensor(object):\n",
    "    \n",
    "    def __init__(self, data):\n",
    "        self.data = np.array(data)\n",
    "        \n",
    "    def __add__(self, other):\n",
    "        return Tensor(self.data + other.data)\n",
    "    \n",
    "    def __repr__(self):\n",
    "        return str(self.data.__repr__())\n",
    "    \n",
    "    def __str__(self):\n",
    "        return str(self.data.__str__())"
   ]
  },
  {
   "cell_type": "code",
   "execution_count": 2,
   "metadata": {},
   "outputs": [
    {
     "name": "stdout",
     "output_type": "stream",
     "text": [
      "[1 2 3 4 5]\n"
     ]
    },
    {
     "data": {
      "text/plain": [
       "'array([1, 2, 3, 4, 5])'"
      ]
     },
     "execution_count": 2,
     "metadata": {},
     "output_type": "execute_result"
    }
   ],
   "source": [
    "x = Tensor([1,2,3,4,5])\n",
    "print(x)\n",
    "x.__repr__()"
   ]
  },
  {
   "cell_type": "code",
   "execution_count": 3,
   "metadata": {},
   "outputs": [
    {
     "data": {
      "text/plain": [
       "'[ 2  4  6  8 10]'"
      ]
     },
     "execution_count": 3,
     "metadata": {},
     "output_type": "execute_result"
    }
   ],
   "source": [
    "y = x + x\n",
    "y.__str__()"
   ]
  },
  {
   "cell_type": "markdown",
   "metadata": {},
   "source": [
    "## autograd的传播"
   ]
  },
  {
   "cell_type": "code",
   "execution_count": 26,
   "metadata": {},
   "outputs": [],
   "source": [
    "import numpy as np\n",
    "\n",
    "class Tensor(object):\n",
    "    \n",
    "    def __init__(self, data, creators=None, creation_op=None):\n",
    "        self.data = np.array(data)\n",
    "        self.creators = creators\n",
    "        self.creation_op = creation_op\n",
    "        self.grad = None\n",
    "        \n",
    "    def backward(self, grad):\n",
    "        self.grad = grad\n",
    "        if self.creation_op == 'add':\n",
    "            for i in range(len(self.creators)):\n",
    "                self.creators[i].backward(grad)\n",
    "\n",
    "    def __add__(self, other):\n",
    "        return Tensor(self.data + other.data, creators=[self, other], creation_op='add')\n",
    "    \n",
    "    def __repr__(self):\n",
    "        return str(self.data.__repr__())\n",
    "    \n",
    "    def __str__(self):\n",
    "        return str(self.data.__str__())"
   ]
  },
  {
   "cell_type": "code",
   "execution_count": 27,
   "metadata": {},
   "outputs": [],
   "source": [
    "x = Tensor([1,2,3,4,5])\n",
    "y = Tensor([1,2,3,4,5])\n",
    "z = x + y\n",
    "z.backward(Tensor(np.array([1,1,1,1,1])))"
   ]
  },
  {
   "cell_type": "code",
   "execution_count": 28,
   "metadata": {},
   "outputs": [
    {
     "name": "stdout",
     "output_type": "stream",
     "text": [
      "[1 1 1 1 1]\n",
      "[1 1 1 1 1]\n",
      "[array([1, 2, 3, 4, 5]), array([1, 2, 3, 4, 5])]\n",
      "add\n"
     ]
    }
   ],
   "source": [
    "print(x.grad)\n",
    "print(y.grad)\n",
    "print(z.creators)\n",
    "print(z.creation_op)"
   ]
  },
  {
   "cell_type": "code",
   "execution_count": 30,
   "metadata": {},
   "outputs": [
    {
     "name": "stdout",
     "output_type": "stream",
     "text": [
      "[1 1 1 1 1]\n"
     ]
    }
   ],
   "source": [
    "a = Tensor([1,2,3,4,5])\n",
    "b = Tensor([2,2,2,2,2])\n",
    "c = Tensor([5,4,3,2,1])\n",
    "d = Tensor([-1,-2,-3,-4,-5])\n",
    "e = a + b\n",
    "f = c + d\n",
    "g = e + f\n",
    "g.backward(Tensor(np.array([1,1,1,1,1])))\n",
    "print(a.grad)"
   ]
  },
  {
   "cell_type": "markdown",
   "metadata": {},
   "source": [
    "## 梯度的累加"
   ]
  },
  {
   "cell_type": "code",
   "execution_count": 7,
   "metadata": {},
   "outputs": [],
   "source": [
    "import numpy as np\n",
    "\n",
    "class Tensor(object):\n",
    "    \n",
    "    def __init__(self, data, autograd=False, creators=None, creation_op=None, id=None):\n",
    "        self.data = np.array(data)\n",
    "        self.creators = creators\n",
    "        self.creation_op = creation_op\n",
    "        self.grad = None\n",
    "        self.autograd = autograd\n",
    "        self.children = {}\n",
    "        if id is None:\n",
    "            self.id = np.random.randint(0, 100000)\n",
    "            pass\n",
    "        if creators is not None:\n",
    "            for c in creators:\n",
    "                if self.id not in c.children.keys():\n",
    "                    c.children[self.id] = 1\n",
    "                else:\n",
    "                    c.children[self.id] += 1\n",
    "                    pass\n",
    "                pass\n",
    "            pass\n",
    "        pass\n",
    "    \n",
    "    \n",
    "    def all_children_grads_account_for(self):\n",
    "        for id, cnt in self.children.items():\n",
    "            if cnt != 0:\n",
    "                return False\n",
    "        return True\n",
    "        \n",
    "    def backward(self, grad=None, grad_origin=None):\n",
    "        if self.autograd:\n",
    "            if grad_origin is not None:\n",
    "                if self.children[grad_origin.id] != 0:\n",
    "                    self.children[grad_origin.id] -= 1\n",
    "                else:\n",
    "                    raise Exception(\"can not backprop more than once\")\n",
    "                    pass\n",
    "                pass\n",
    "            pass\n",
    "        \n",
    "        if self.grad is None:\n",
    "            self.grad = grad\n",
    "        else:\n",
    "            self.grad += grad\n",
    "            \n",
    "        if self.creators is not None and (self.all_children_grads_account_for() or grad_origin is None):\n",
    "            if self.creation_op == 'add':\n",
    "                for i in range(len(self.creators)):\n",
    "                    self.creators[i].backward(self.grad, self)\n",
    "\n",
    "    def __add__(self, other):\n",
    "        if self.autograd and other.autograd:\n",
    "            return Tensor(self.data + other.data,autograd=True, creators=[self, other], creation_op='add')\n",
    "        return Tensor(self.data + other.data, creators=[self, other], creation_op='add')\n",
    "    \n",
    "    def __repr__(self):\n",
    "        return str(self.data.__repr__())\n",
    "    \n",
    "    def __str__(self):\n",
    "        return str(self.data.__str__())"
   ]
  },
  {
   "cell_type": "code",
   "execution_count": 8,
   "metadata": {},
   "outputs": [
    {
     "name": "stdout",
     "output_type": "stream",
     "text": [
      "[ True  True  True  True  True]\n"
     ]
    }
   ],
   "source": [
    "a = Tensor(np.array([1,2,3,4,5]), autograd=True)\n",
    "b = Tensor(np.array([1,2,3,4,5]), autograd=True)\n",
    "c = Tensor(np.array([1,2,3,4,5]), autograd=True)\n",
    "\n",
    "d = a + b\n",
    "e = b + c\n",
    "f = d + e\n",
    "\n",
    "f.backward(Tensor(np.array([1,1,1,1,1])))\n",
    "\n",
    "print(b.grad.data == np.array([2,2,2,2,2]))"
   ]
  },
  {
   "cell_type": "markdown",
   "metadata": {},
   "source": [
    "## 添加取负值操作的支持"
   ]
  },
  {
   "cell_type": "code",
   "execution_count": 13,
   "metadata": {},
   "outputs": [],
   "source": [
    "import numpy as np\n",
    "\n",
    "class Tensor(object):\n",
    "    \n",
    "    def __init__(self, data, autograd=False, creators=None, creation_op=None, id=None):\n",
    "        self.data = np.array(data)\n",
    "        self.creators = creators\n",
    "        self.creation_op = creation_op\n",
    "        self.grad = None\n",
    "        self.autograd = autograd\n",
    "        self.children = {}\n",
    "        if id is None:\n",
    "            self.id = np.random.randint(0, 100000)\n",
    "            pass\n",
    "        if creators is not None:\n",
    "            for c in creators:\n",
    "                if self.id not in c.children.keys():\n",
    "                    c.children[self.id] = 1\n",
    "                else:\n",
    "                    c.children[self.id] += 1\n",
    "                    pass\n",
    "                pass\n",
    "            pass\n",
    "        pass\n",
    "    \n",
    "    \n",
    "    def all_children_grads_account_for(self):\n",
    "        for id, cnt in self.children.items():\n",
    "            if cnt != 0:\n",
    "                return False\n",
    "        return True\n",
    "        \n",
    "    def backward(self, grad=None, grad_origin=None):\n",
    "        if self.autograd:\n",
    "            if grad_origin is not None:\n",
    "                if self.children[grad_origin.id] != 0:\n",
    "                    self.children[grad_origin.id] -= 1\n",
    "                else:\n",
    "                    raise Exception(\"can not backprop more than once\")\n",
    "                    pass\n",
    "                pass\n",
    "            pass\n",
    "        \n",
    "        if self.grad is None:\n",
    "            self.grad = grad\n",
    "        else:\n",
    "            self.grad += grad\n",
    "            \n",
    "        if self.creators is not None and (self.all_children_grads_account_for() or grad_origin is None):\n",
    "            if self.creation_op == 'add':\n",
    "                for i in range(len(self.creators)):\n",
    "                    self.creators[i].backward(self.grad, self)\n",
    "                    pass\n",
    "                pass\n",
    "            if self.creation_op == 'neg':\n",
    "                for i in range(len(self.creators)):\n",
    "                    self.creators[i].backward(self.grad.__neg__())\n",
    "                    pass\n",
    "                pass\n",
    "            \n",
    "\n",
    "    def __add__(self, other):\n",
    "        if self.autograd and other.autograd:\n",
    "            return Tensor(self.data + other.data, autograd=True, creators=[self, other], creation_op='add')\n",
    "        return Tensor(self.data + other.data, creators=[self, other], creation_op='add')\n",
    "    \n",
    "    \n",
    "    def __neg__(self):\n",
    "        if self.autograd:\n",
    "            return Tensor(self.data * -1, autograd=True, creators=[self], creation_op='neg')\n",
    "        return Tensor(self.data * -1)\n",
    "    \n",
    "    def __repr__(self):\n",
    "        return str(self.data.__repr__())\n",
    "    \n",
    "    def __str__(self):\n",
    "        return str(self.data.__str__())"
   ]
  },
  {
   "cell_type": "code",
   "execution_count": 18,
   "metadata": {},
   "outputs": [
    {
     "name": "stdout",
     "output_type": "stream",
     "text": [
      "[ True  True  True  True  True]\n"
     ]
    }
   ],
   "source": [
    "a = Tensor(np.array([1,2,3,4,5]), autograd=True)\n",
    "b = Tensor(np.array([1,2,3,4,5]), autograd=True)\n",
    "c = Tensor(np.array([1,2,3,4,5]), autograd=True)\n",
    "\n",
    "d = a + (-b)\n",
    "e = (-b) + c\n",
    "f = d + e\n",
    "\n",
    "f.backward(Tensor(np.array([1,1,1,1,1])))\n",
    "\n",
    "print(b.grad.data == np.array([-2,-2,-2,-2,-2])) "
   ]
  },
  {
   "cell_type": "markdown",
   "metadata": {},
   "source": [
    "## 添加更多函数的支持\n",
    "- 减法sub\n",
    "- 乘法mul\n",
    "- 求和sum\n",
    "- 扩充expand\n",
    "- 转置transpose\n",
    "- 矩阵乘法mm"
   ]
  },
  {
   "cell_type": "code",
   "execution_count": null,
   "metadata": {},
   "outputs": [],
   "source": [
    "import numpy as np\n",
    "\n",
    "class Tensor(object):\n",
    "    \n",
    "    def __init__(self, data, autograd=False, creators=None, creation_op=None, id=None):\n",
    "        self.data = np.array(data)\n",
    "        self.creators = creators\n",
    "        self.creation_op = creation_op\n",
    "        self.grad = None\n",
    "        self.autograd = autograd\n",
    "        self.children = {}\n",
    "        if id is None:\n",
    "            self.id = np.random.randint(0, 100000)\n",
    "            pass\n",
    "        if creators is not None:\n",
    "            for c in creators:\n",
    "                if self.id not in c.children.keys():\n",
    "                    c.children[self.id] = 1\n",
    "                else:\n",
    "                    c.children[self.id] += 1\n",
    "                    pass\n",
    "                pass\n",
    "            pass\n",
    "        pass\n",
    "    \n",
    "    \n",
    "    def all_children_grads_account_for(self):\n",
    "        for id, cnt in self.children.items():\n",
    "            if cnt != 0:\n",
    "                return False\n",
    "        return True\n",
    "        \n",
    "    def backward(self, grad=None, grad_origin=None):\n",
    "        if self.autograd:\n",
    "            if grad_origin is not None:\n",
    "                if self.children[grad_origin.id] != 0:\n",
    "                    self.children[grad_origin.id] -= 1\n",
    "                else:\n",
    "                    raise Exception(\"can not backprop more than once\")\n",
    "                    pass\n",
    "                pass\n",
    "            pass\n",
    "        \n",
    "        if self.grad is None:\n",
    "            self.grad = grad\n",
    "        else:\n",
    "            self.grad += grad\n",
    "            \n",
    "        if self.creators is not None and (self.all_children_grads_account_for() or grad_origin is None):\n",
    "            if self.creation_op == 'add':\n",
    "                for i in range(len(self.creators)):\n",
    "                    self.creators[i].backward(self.grad, self)\n",
    "                    pass\n",
    "                pass\n",
    "            if self.creation_op == 'neg':\n",
    "                for i in range(len(self.creators)):\n",
    "                    self.creators[i].backward(self.grad.__neg__())\n",
    "                    pass\n",
    "                pass\n",
    "            \n",
    "\n",
    "    def __add__(self, other):\n",
    "        if self.autograd and other.autograd:\n",
    "            return Tensor(self.data + other.data, autograd=True, creators=[self, other], creation_op='add')\n",
    "        return Tensor(self.data + other.data, creators=[self, other], creation_op='add')\n",
    "    \n",
    "    # 取负值\n",
    "    def __neg__(self):\n",
    "        if self.autograd:\n",
    "            return Tensor(self.data * -1, autograd=True, creators=[self], creation_op='neg')\n",
    "        return Tensor(self.data * -1)\n",
    "    \n",
    "    \n",
    "    # 减法sub\n",
    "    def __sub__(self, other):\n",
    "        if self.autograd and other.autograd:\n",
    "            return Tensor(self.data - other.data, autograd=True, creators=[self, other], creation_op='sub')\n",
    "        return Tensor(self.data - other.data)\n",
    "    \n",
    "    \n",
    "    # 乘法mul\n",
    "    def __mul__(self, other):\n",
    "        if self.autograd and other.autograd:\n",
    "            return Tensor(self.data * other.data, autograd=True, creators=[self, other], creation_op='mul')\n",
    "        return Tensor(self.data * other.data)\n",
    "    \n",
    "    \n",
    "    # 求和sum\n",
    "    def __sum__(self, dim):\n",
    "        if self.autograd:\n",
    "            return Tensor(self.data.sum(dim), autograd=True, creators=[self], creation_op='sum_' + str(dim))\n",
    "        return Tensor(self.data.sum(dim))\n",
    "    \n",
    "    \n",
    "    # 扩充expand\n",
    "    def __expand__(self, dim, copies):\n",
    "        trans_cmd = list(range(0, len(self.data.shape)))\n",
    "        trans_cmd.insert(dim, len(self.data.shape))\n",
    "        new_shape = lisr(self.data.shape) + [copies]\n",
    "        new_data = self.data.repeat(copies).reshape(new_shape)\n",
    "        new_data = new_data.transpose(trans_cmd)\n",
    "        \n",
    "        if self.autograd:\n",
    "            return Tensor(new_data, )\n",
    "        \n",
    "        \n",
    "    # 转置transpose\n",
    "    def __transpose__(self):\n",
    "        if self.autograd:\n",
    "            return Tensor(self.data.transpose(), autograd=True, creators=[self], creation_op='transpose')\n",
    "        return Tensor(self.data.transpose())\n",
    "    \n",
    "    \n",
    "    # 矩阵乘法mm\n",
    "    def __mm__(self, x):\n",
    "        if self.autograd:\n",
    "            return Tensor(np.dot(self.data, x.data), autograd=True, creators=[self, x], creation_op='mm')\n",
    "        return Tensor(np.dot(self.data, x.data))\n",
    "    def __repr__(self):\n",
    "        return str(self.data.__repr__())\n",
    "    \n",
    "    def __str__(self):\n",
    "        return str(self.data.__str__())"
   ]
  }
 ],
 "metadata": {
  "kernelspec": {
   "display_name": "Python 3",
   "language": "python",
   "name": "python3"
  },
  "language_info": {
   "codemirror_mode": {
    "name": "ipython",
    "version": 3
   },
   "file_extension": ".py",
   "mimetype": "text/x-python",
   "name": "python",
   "nbconvert_exporter": "python",
   "pygments_lexer": "ipython3",
   "version": "3.7.6"
  }
 },
 "nbformat": 4,
 "nbformat_minor": 4
}
